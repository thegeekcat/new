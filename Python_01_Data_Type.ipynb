{
  "nbformat": 4,
  "nbformat_minor": 0,
  "metadata": {
    "colab": {
      "provenance": [],
      "authorship_tag": "ABX9TyMDAo7dNA5S2YArBxF5Q5gx",
      "include_colab_link": true
    },
    "kernelspec": {
      "name": "python3",
      "display_name": "Python 3"
    },
    "language_info": {
      "name": "python"
    }
  },
  "cells": [
    {
      "cell_type": "markdown",
      "metadata": {
        "id": "view-in-github",
        "colab_type": "text"
      },
      "source": [
        "<a href=\"https://colab.research.google.com/github/thegeekcat/thegeekcat.github.io/blob/master/Python_01_Data_Type.ipynb\" target=\"_parent\"><img src=\"https://colab.research.google.com/assets/colab-badge.svg\" alt=\"Open In Colab\"/></a>"
      ]
    },
    {
      "cell_type": "code",
      "execution_count": null,
      "metadata": {
        "colab": {
          "base_uri": "https://localhost:8080/"
        },
        "id": "DwGJXVhzE3q_",
        "outputId": "4df452d6-41a5-409c-9bb3-e0be6a34cf1a"
      },
      "outputs": [
        {
          "output_type": "stream",
          "name": "stdout",
          "text": [
            "Hello World!\n"
          ]
        }
      ],
      "source": [
        "print ('Hello World!')"
      ]
    },
    {
      "cell_type": "code",
      "source": [
        "# 변수 규칙\n",
        "a = 1\n",
        "b = 2\n",
        "\n",
        "#2a = 3 항상 변수는 문자로 시작해야 함\n",
        "student_count = 101\n",
        "print(a * b, student_count)"
      ],
      "metadata": {
        "colab": {
          "base_uri": "https://localhost:8080/"
        },
        "id": "X3Fvl1HjJZXi",
        "outputId": "5cfbb472-94c0-4e3e-da26-1f19a6de999a"
      },
      "execution_count": null,
      "outputs": [
        {
          "output_type": "stream",
          "name": "stdout",
          "text": [
            "2 101\n"
          ]
        }
      ]
    },
    {
      "cell_type": "code",
      "source": [
        "friend = 1\n",
        "Friend = 10\n",
        "\n",
        "print (\"friend: \", friend)\n",
        "print (\"Friend: \", Friend)\n"
      ],
      "metadata": {
        "colab": {
          "base_uri": "https://localhost:8080/"
        },
        "id": "g6ydEUzxP1rv",
        "outputId": "79e08580-ddcf-4460-b0b8-53e4cbeaa135"
      },
      "execution_count": null,
      "outputs": [
        {
          "output_type": "stream",
          "name": "stdout",
          "text": [
            "friend:  1\n",
            "Friend:  10\n"
          ]
        }
      ]
    },
    {
      "cell_type": "code",
      "source": [
        "# 숫자형\n",
        "year = 2023\n",
        "month = 4\n",
        "\n",
        "print(year, month)\n",
        "\n",
        "year = 'Test'\n",
        "\n",
        "print(year)\n",
        "\n",
        "print(type(year))"
      ],
      "metadata": {
        "colab": {
          "base_uri": "https://localhost:8080/"
        },
        "id": "mCZjvp2lRHpe",
        "outputId": "a49e52f3-d7f8-4703-c60e-28f1ee431283"
      },
      "execution_count": null,
      "outputs": [
        {
          "output_type": "stream",
          "name": "stdout",
          "text": [
            "2023 4\n",
            "Test\n",
            "<class 'str'>\n"
          ]
        }
      ]
    },
    {
      "cell_type": "code",
      "source": [
        "# 8진수\n",
        "# 정수 앞에 0o를 붙이면 8진수\n",
        "\n",
        "print(0o10)\n",
        "\n",
        "# 정수 앞에 0b를 붙이면 2진수\n",
        "print (0b10)\n",
        "\n",
        "# 정수 앞에 0x를 붙이면 16진수\n",
        "print(0x10)"
      ],
      "metadata": {
        "colab": {
          "base_uri": "https://localhost:8080/"
        },
        "id": "vYRFKurVRXEn",
        "outputId": "7cf17b51-f7dd-4b8d-8c74-3120e66da6fa"
      },
      "execution_count": null,
      "outputs": [
        {
          "output_type": "stream",
          "name": "stdout",
          "text": [
            "8\n",
            "2\n",
            "16\n"
          ]
        }
      ]
    },
    {
      "cell_type": "code",
      "source": [
        "# 다음은 10진수를 받아서 각 진수로 변환하는 방법 (결과가 문자형)\n",
        "\n",
        "\n",
        "print (oct(38)) # 10진수 38을 8진수로 변환\n",
        "print (hex(38)) # 10진수 38을 16진수로 변환\n",
        "print (bin(38)) # 10진수 38을 2진수로 변환"
      ],
      "metadata": {
        "colab": {
          "base_uri": "https://localhost:8080/"
        },
        "id": "eb342MqtToUF",
        "outputId": "19196335-63ba-4ed0-9d09-20d6cd067cdd"
      },
      "execution_count": null,
      "outputs": [
        {
          "output_type": "stream",
          "name": "stdout",
          "text": [
            "0o46\n",
            "0x26\n",
            "0b100110\n"
          ]
        }
      ]
    },
    {
      "cell_type": "code",
      "source": [
        "# 파이썬의 정수타입\n",
        "print (type(1)) # int\n",
        "print (type(2**31)) # 2의 31승: 파이썬 3.0에서 int형으로 정수형 통합 (long 형 없어짐) -> 단점 메모리 낭비 증가"
      ],
      "metadata": {
        "colab": {
          "base_uri": "https://localhost:8080/"
        },
        "id": "Xm2bk_BLUYC5",
        "outputId": "679de79e-45c0-4b1c-e7f8-fdb194bb413e"
      },
      "execution_count": null,
      "outputs": [
        {
          "output_type": "stream",
          "name": "stdout",
          "text": [
            "<class 'int'>\n",
            "<class 'int'>\n"
          ]
        }
      ]
    },
    {
      "cell_type": "code",
      "source": [
        "# 실수의 표현\n",
        "print(type(3.14))\n",
        "print(type(3.14e-2))\n",
        "print(type(3 - 4j)) #복소수\n",
        "\n",
        "x = 3 - 4j\n",
        "print(x.imag) # imag는 허수부\n",
        "print(x.real) # real은 실수부\n",
        "print(x.conjugate()) #conjugate는 켤레 복소수 확인"
      ],
      "metadata": {
        "colab": {
          "base_uri": "https://localhost:8080/"
        },
        "id": "KdIrY_LxVaMF",
        "outputId": "3d908fd3-e40c-4c7a-ec61-f5ea5417329f"
      },
      "execution_count": null,
      "outputs": [
        {
          "output_type": "stream",
          "name": "stdout",
          "text": [
            "<class 'float'>\n",
            "<class 'float'>\n",
            "<class 'complex'>\n",
            "-4.0\n",
            "3.0\n",
            "(3+4j)\n"
          ]
        }
      ]
    },
    {
      "cell_type": "code",
      "source": [
        "# 원의 넓이와 삼각형 넓이 구하기\n",
        "\n",
        "r = 2\n",
        "\n",
        "circle_area = (r ** 2) * 3.14\n",
        "print(circle_area)\n",
        "\n",
        "x = 3\n",
        "y = 4\n",
        "triangle_area = x * y / 2\n",
        "print(triangle_area)"
      ],
      "metadata": {
        "colab": {
          "base_uri": "https://localhost:8080/"
        },
        "id": "TcMSBpdVVfML",
        "outputId": "a2ecdd1c-3a19-45f2-8246-a335b6ece3aa"
      },
      "execution_count": null,
      "outputs": [
        {
          "output_type": "stream",
          "name": "stdout",
          "text": [
            "12.56\n",
            "6.0\n"
          ]
        }
      ]
    },
    {
      "cell_type": "code",
      "source": [
        "# 문자형 실습\n",
        "print('Hello World!')\n",
        "print(\"Hello World!\")\n",
        "print(\"Welcome to 'Python World'\")\n",
        "print('''\n",
        "      Do What You Love\n",
        "''')"
      ],
      "metadata": {
        "colab": {
          "base_uri": "https://localhost:8080/"
        },
        "id": "jJZycNYqpqI5",
        "outputId": "0b2f13fb-7063-4452-bd48-c09fecc3e7a7"
      },
      "execution_count": null,
      "outputs": [
        {
          "output_type": "stream",
          "name": "stdout",
          "text": [
            "Hello World!\n",
            "Hello World!\n",
            "Welcome to 'Python World'\n",
            "\n",
            "      Do What You Love\n",
            "\n"
          ]
        }
      ]
    },
    {
      "cell_type": "code",
      "source": [
        "print('\\t Tab \\n Next Line')"
      ],
      "metadata": {
        "colab": {
          "base_uri": "https://localhost:8080/"
        },
        "id": "rhoyYyyqqCHr",
        "outputId": "fcd5e575-79f3-4e62-9611-6d66c7432fcf"
      },
      "execution_count": null,
      "outputs": [
        {
          "output_type": "stream",
          "name": "stdout",
          "text": [
            "\t Tab \n",
            " Next Line\n"
          ]
        }
      ]
    },
    {
      "cell_type": "code",
      "source": [
        "print('py' 'thon')\n",
        "print('py' + 'thon') \n",
        "print('py', 'thon')"
      ],
      "metadata": {
        "colab": {
          "base_uri": "https://localhost:8080/"
        },
        "id": "8r52j3aLqWft",
        "outputId": "f8b54af6-df41-47f2-db21-7117237d2acb"
      },
      "execution_count": null,
      "outputs": [
        {
          "output_type": "stream",
          "name": "stdout",
          "text": [
            "python\n",
            "python\n",
            "py thon\n"
          ]
        }
      ]
    },
    {
      "cell_type": "code",
      "source": [
        "print('py' * 3)"
      ],
      "metadata": {
        "colab": {
          "base_uri": "https://localhost:8080/"
        },
        "id": "mWUEp29Kq2cH",
        "outputId": "820593ca-5ec6-49df-ce9e-c7c4678fb671"
      },
      "execution_count": null,
      "outputs": [
        {
          "output_type": "stream",
          "name": "stdout",
          "text": [
            "pypypy\n"
          ]
        }
      ]
    },
    {
      "cell_type": "code",
      "source": [
        "a = 'Python'\n",
        "\n",
        "print(a[0])\n",
        "print(a[0+1])\n",
        "print(a[0+2])"
      ],
      "metadata": {
        "colab": {
          "base_uri": "https://localhost:8080/"
        },
        "id": "OWcMvQ2Gr_As",
        "outputId": "faf7c80a-7bb6-40c2-fe2f-579e6a1ad716"
      },
      "execution_count": null,
      "outputs": [
        {
          "output_type": "stream",
          "name": "stdout",
          "text": [
            "P\n",
            "y\n",
            "t\n"
          ]
        }
      ]
    },
    {
      "cell_type": "code",
      "source": [
        "a[0] = 'A' # Index는 real-only속성이라 수정은 불가능함"
      ],
      "metadata": {
        "colab": {
          "base_uri": "https://localhost:8080/",
          "height": 165
        },
        "id": "xZdwRMXssCEI",
        "outputId": "c19731d7-890d-4042-e234-63f8985c8df7"
      },
      "execution_count": null,
      "outputs": [
        {
          "output_type": "error",
          "ename": "TypeError",
          "evalue": "ignored",
          "traceback": [
            "\u001b[0;31m---------------------------------------------------------------------------\u001b[0m",
            "\u001b[0;31mTypeError\u001b[0m                                 Traceback (most recent call last)",
            "\u001b[0;32m<ipython-input-71-edede21216ea>\u001b[0m in \u001b[0;36m<cell line: 1>\u001b[0;34m()\u001b[0m\n\u001b[0;32m----> 1\u001b[0;31m \u001b[0ma\u001b[0m\u001b[0;34m[\u001b[0m\u001b[0;36m0\u001b[0m\u001b[0;34m]\u001b[0m \u001b[0;34m=\u001b[0m \u001b[0;34m'A'\u001b[0m \u001b[0;31m# Index는 real-only속성이라 수정은 불가능함\u001b[0m\u001b[0;34m\u001b[0m\u001b[0;34m\u001b[0m\u001b[0m\n\u001b[0m",
            "\u001b[0;31mTypeError\u001b[0m: 'str' object does not support item assignment"
          ]
        }
      ]
    },
    {
      "cell_type": "code",
      "source": [
        "# index를 이용해서 범위 설정 가능\n",
        "print(a[0:1])\n",
        "print(a[0:2])\n",
        "\n",
        "print(a[:3]) #생략 가능\n",
        "print(a[3:]) \n",
        "\n",
        "# P y t h o n\n",
        "# 0 1 2 3 4 5\n",
        "\n",
        "print(a[-3:]) # 끝에있는 세자리만  e.g. 제품번호 사용\n",
        "print(a[:-3]) # 앞에있는 세자리만\n",
        "\n",
        "print(a[::2]) # 2씩 증가"
      ],
      "metadata": {
        "colab": {
          "base_uri": "https://localhost:8080/"
        },
        "id": "3F-YBoYasUQ4",
        "outputId": "80247268-6743-4d8b-efe1-813a96ab8b4e"
      },
      "execution_count": null,
      "outputs": [
        {
          "output_type": "stream",
          "name": "stdout",
          "text": [
            "P\n",
            "Py\n",
            "Pyt\n",
            "hon\n",
            "hon\n",
            "Pyt\n",
            "Pto\n"
          ]
        }
      ]
    },
    {
      "cell_type": "code",
      "source": [
        "# 데이터 타입 변환\n",
        "print(str(3.14)) #문자형으로 변환\n",
        "print(int('49')) #정수형으로 변환\n",
        "print(float(23)) #실수형으로 변환"
      ],
      "metadata": {
        "colab": {
          "base_uri": "https://localhost:8080/"
        },
        "id": "7l2x17H1uKSB",
        "outputId": "2816fa10-7e83-4e6b-b365-74d659f0ce80"
      },
      "execution_count": null,
      "outputs": [
        {
          "output_type": "stream",
          "name": "stdout",
          "text": [
            "3.14\n",
            "49\n",
            "23.0\n"
          ]
        }
      ]
    }
  ]
}